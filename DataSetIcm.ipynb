{
 "cells": [
  {
   "cell_type": "markdown",
   "id": "8e17dcd9",
   "metadata": {},
   "source": [
    "# Avaliação CONSISTE (XTR)"
   ]
  },
  {
   "cell_type": "markdown",
   "id": "e6347cd3",
   "metadata": {},
   "source": [
    "Desenvolver codigo, bem comentado para que cada paço esteja apresentável a qualquer pessoa inclusive que não está habituado a liguagem PYTHON e acompanhar a lógica envolvida "
   ]
  },
  {
   "cell_type": "markdown",
   "id": "a759a0a4",
   "metadata": {},
   "source": [
    "Primeiro Passo: Importar Livraria Pandas (permite trabalhar com menos codigos e mais produtividade)"
   ]
  },
  {
   "cell_type": "code",
   "execution_count": 1,
   "id": "529c0059",
   "metadata": {},
   "outputs": [],
   "source": [
    "import pandas as pd"
   ]
  },
  {
   "cell_type": "markdown",
   "id": "55afc93b",
   "metadata": {},
   "source": [
    "Segundo Passo: Carregar os dados do CSV (arquivo, separador usado, codigo usado, trocando separador de casa decimal)"
   ]
  },
  {
   "cell_type": "code",
   "execution_count": 2,
   "id": "1f63cf74",
   "metadata": {},
   "outputs": [],
   "source": [
    "df = pd.read_csv('dataset.csv', sep=';', encoding='latin1' ,decimal=',')"
   ]
  },
  {
   "cell_type": "markdown",
   "id": "9bcd7200",
   "metadata": {},
   "source": [
    "Terceiro Passo: Verificar se os dados foram carregados (df.head() - tras os 5 primeiras linhas como amostra)"
   ]
  },
  {
   "cell_type": "code",
   "execution_count": 3,
   "id": "ab9f2480",
   "metadata": {
    "scrolled": true
   },
   "outputs": [
    {
     "data": {
      "text/html": [
       "<div>\n",
       "<style scoped>\n",
       "    .dataframe tbody tr th:only-of-type {\n",
       "        vertical-align: middle;\n",
       "    }\n",
       "\n",
       "    .dataframe tbody tr th {\n",
       "        vertical-align: top;\n",
       "    }\n",
       "\n",
       "    .dataframe thead th {\n",
       "        text-align: right;\n",
       "    }\n",
       "</style>\n",
       "<table border=\"1\" class=\"dataframe\">\n",
       "  <thead>\n",
       "    <tr style=\"text-align: right;\">\n",
       "      <th></th>\n",
       "      <th>Primeiro Nome</th>\n",
       "      <th>Sobrenomes</th>\n",
       "      <th>Peso (kg)</th>\n",
       "      <th>Altura (m)</th>\n",
       "    </tr>\n",
       "  </thead>\n",
       "  <tbody>\n",
       "    <tr>\n",
       "      <th>0</th>\n",
       "      <td>felipe</td>\n",
       "      <td>neves da hora</td>\n",
       "      <td>70.60</td>\n",
       "      <td>1.69</td>\n",
       "    </tr>\n",
       "    <tr>\n",
       "      <th>1</th>\n",
       "      <td>sandro</td>\n",
       "      <td>barbosa</td>\n",
       "      <td>90.50</td>\n",
       "      <td>1.73</td>\n",
       "    </tr>\n",
       "    <tr>\n",
       "      <th>2</th>\n",
       "      <td>maycon</td>\n",
       "      <td>da silva ferreira</td>\n",
       "      <td>100.01</td>\n",
       "      <td>1.82</td>\n",
       "    </tr>\n",
       "    <tr>\n",
       "      <th>3</th>\n",
       "      <td>jeferson</td>\n",
       "      <td>Oliveira</td>\n",
       "      <td>80.04</td>\n",
       "      <td>1.75</td>\n",
       "    </tr>\n",
       "    <tr>\n",
       "      <th>4</th>\n",
       "      <td>manuel</td>\n",
       "      <td>gomes   vieira</td>\n",
       "      <td>63.05</td>\n",
       "      <td>1.80</td>\n",
       "    </tr>\n",
       "  </tbody>\n",
       "</table>\n",
       "</div>"
      ],
      "text/plain": [
       "  Primeiro Nome         Sobrenomes  Peso (kg)  Altura (m)\n",
       "0        felipe      neves da hora      70.60        1.69\n",
       "1      sandro              barbosa      90.50        1.73\n",
       "2        maycon  da silva ferreira     100.01        1.82\n",
       "3   jeferson              Oliveira      80.04        1.75\n",
       "4        manuel     gomes   vieira      63.05        1.80"
      ]
     },
     "execution_count": 3,
     "metadata": {},
     "output_type": "execute_result"
    }
   ],
   "source": [
    "df.head()"
   ]
  },
  {
   "cell_type": "markdown",
   "id": "f7aaeabd",
   "metadata": {},
   "source": [
    "Quarto Passo: Atribuindo as colunas o Método aplicado upper()"
   ]
  },
  {
   "cell_type": "code",
   "execution_count": 4,
   "id": "e9bf6f66",
   "metadata": {},
   "outputs": [],
   "source": [
    "df['Primeiro Nome'] = df['Primeiro Nome'].str.upper()\n",
    "df['Sobrenomes'] = df['Sobrenomes'].str.upper()"
   ]
  },
  {
   "cell_type": "markdown",
   "id": "f52f7df2",
   "metadata": {},
   "source": [
    "Quinto Passo: Testando o resultado"
   ]
  },
  {
   "cell_type": "code",
   "execution_count": 5,
   "id": "339bbdfb",
   "metadata": {},
   "outputs": [
    {
     "data": {
      "text/html": [
       "<div>\n",
       "<style scoped>\n",
       "    .dataframe tbody tr th:only-of-type {\n",
       "        vertical-align: middle;\n",
       "    }\n",
       "\n",
       "    .dataframe tbody tr th {\n",
       "        vertical-align: top;\n",
       "    }\n",
       "\n",
       "    .dataframe thead th {\n",
       "        text-align: right;\n",
       "    }\n",
       "</style>\n",
       "<table border=\"1\" class=\"dataframe\">\n",
       "  <thead>\n",
       "    <tr style=\"text-align: right;\">\n",
       "      <th></th>\n",
       "      <th>Primeiro Nome</th>\n",
       "      <th>Sobrenomes</th>\n",
       "      <th>Peso (kg)</th>\n",
       "      <th>Altura (m)</th>\n",
       "    </tr>\n",
       "  </thead>\n",
       "  <tbody>\n",
       "    <tr>\n",
       "      <th>0</th>\n",
       "      <td>FELIPE</td>\n",
       "      <td>NEVES DA HORA</td>\n",
       "      <td>70.60</td>\n",
       "      <td>1.69</td>\n",
       "    </tr>\n",
       "    <tr>\n",
       "      <th>1</th>\n",
       "      <td>SANDRO</td>\n",
       "      <td>BARBOSA</td>\n",
       "      <td>90.50</td>\n",
       "      <td>1.73</td>\n",
       "    </tr>\n",
       "    <tr>\n",
       "      <th>2</th>\n",
       "      <td>MAYCON</td>\n",
       "      <td>DA SILVA FERREIRA</td>\n",
       "      <td>100.01</td>\n",
       "      <td>1.82</td>\n",
       "    </tr>\n",
       "    <tr>\n",
       "      <th>3</th>\n",
       "      <td>JEFERSON</td>\n",
       "      <td>OLIVEIRA</td>\n",
       "      <td>80.04</td>\n",
       "      <td>1.75</td>\n",
       "    </tr>\n",
       "    <tr>\n",
       "      <th>4</th>\n",
       "      <td>MANUEL</td>\n",
       "      <td>GOMES   VIEIRA</td>\n",
       "      <td>63.05</td>\n",
       "      <td>1.80</td>\n",
       "    </tr>\n",
       "  </tbody>\n",
       "</table>\n",
       "</div>"
      ],
      "text/plain": [
       "  Primeiro Nome         Sobrenomes  Peso (kg)  Altura (m)\n",
       "0        FELIPE      NEVES DA HORA      70.60        1.69\n",
       "1      SANDRO              BARBOSA      90.50        1.73\n",
       "2        MAYCON  DA SILVA FERREIRA     100.01        1.82\n",
       "3   JEFERSON              OLIVEIRA      80.04        1.75\n",
       "4        MANUEL     GOMES   VIEIRA      63.05        1.80"
      ]
     },
     "execution_count": 5,
     "metadata": {},
     "output_type": "execute_result"
    }
   ],
   "source": [
    "df.head()"
   ]
  },
  {
   "cell_type": "markdown",
   "id": "c28f9898",
   "metadata": {},
   "source": [
    "Sexto Passo: Juntar as colunas Primeiro nome + Sobrenomes e criar uma nova coluna NomSob"
   ]
  },
  {
   "cell_type": "code",
   "execution_count": 6,
   "id": "de55dcb7",
   "metadata": {},
   "outputs": [],
   "source": [
    "df['NomSob']= df['Primeiro Nome'] +' '+ df['Sobrenomes']"
   ]
  },
  {
   "cell_type": "code",
   "execution_count": 7,
   "id": "596787fa",
   "metadata": {},
   "outputs": [
    {
     "data": {
      "text/html": [
       "<div>\n",
       "<style scoped>\n",
       "    .dataframe tbody tr th:only-of-type {\n",
       "        vertical-align: middle;\n",
       "    }\n",
       "\n",
       "    .dataframe tbody tr th {\n",
       "        vertical-align: top;\n",
       "    }\n",
       "\n",
       "    .dataframe thead th {\n",
       "        text-align: right;\n",
       "    }\n",
       "</style>\n",
       "<table border=\"1\" class=\"dataframe\">\n",
       "  <thead>\n",
       "    <tr style=\"text-align: right;\">\n",
       "      <th></th>\n",
       "      <th>Primeiro Nome</th>\n",
       "      <th>Sobrenomes</th>\n",
       "      <th>Peso (kg)</th>\n",
       "      <th>Altura (m)</th>\n",
       "      <th>NomSob</th>\n",
       "    </tr>\n",
       "  </thead>\n",
       "  <tbody>\n",
       "    <tr>\n",
       "      <th>0</th>\n",
       "      <td>FELIPE</td>\n",
       "      <td>NEVES DA HORA</td>\n",
       "      <td>70.60</td>\n",
       "      <td>1.69</td>\n",
       "      <td>FELIPE NEVES DA HORA</td>\n",
       "    </tr>\n",
       "    <tr>\n",
       "      <th>1</th>\n",
       "      <td>SANDRO</td>\n",
       "      <td>BARBOSA</td>\n",
       "      <td>90.50</td>\n",
       "      <td>1.73</td>\n",
       "      <td>SANDRO   BARBOSA</td>\n",
       "    </tr>\n",
       "    <tr>\n",
       "      <th>2</th>\n",
       "      <td>MAYCON</td>\n",
       "      <td>DA SILVA FERREIRA</td>\n",
       "      <td>100.01</td>\n",
       "      <td>1.82</td>\n",
       "      <td>MAYCON DA SILVA FERREIRA</td>\n",
       "    </tr>\n",
       "    <tr>\n",
       "      <th>3</th>\n",
       "      <td>JEFERSON</td>\n",
       "      <td>OLIVEIRA</td>\n",
       "      <td>80.04</td>\n",
       "      <td>1.75</td>\n",
       "      <td>JEFERSON     OLIVEIRA</td>\n",
       "    </tr>\n",
       "    <tr>\n",
       "      <th>4</th>\n",
       "      <td>MANUEL</td>\n",
       "      <td>GOMES   VIEIRA</td>\n",
       "      <td>63.05</td>\n",
       "      <td>1.80</td>\n",
       "      <td>MANUEL GOMES   VIEIRA</td>\n",
       "    </tr>\n",
       "  </tbody>\n",
       "</table>\n",
       "</div>"
      ],
      "text/plain": [
       "  Primeiro Nome         Sobrenomes  Peso (kg)  Altura (m)  \\\n",
       "0        FELIPE      NEVES DA HORA      70.60        1.69   \n",
       "1      SANDRO              BARBOSA      90.50        1.73   \n",
       "2        MAYCON  DA SILVA FERREIRA     100.01        1.82   \n",
       "3   JEFERSON              OLIVEIRA      80.04        1.75   \n",
       "4        MANUEL     GOMES   VIEIRA      63.05        1.80   \n",
       "\n",
       "                     NomSob  \n",
       "0      FELIPE NEVES DA HORA  \n",
       "1          SANDRO   BARBOSA  \n",
       "2  MAYCON DA SILVA FERREIRA  \n",
       "3     JEFERSON     OLIVEIRA  \n",
       "4     MANUEL GOMES   VIEIRA  "
      ]
     },
     "execution_count": 7,
     "metadata": {},
     "output_type": "execute_result"
    }
   ],
   "source": [
    "df.head()"
   ]
  },
  {
   "cell_type": "markdown",
   "id": "550de163",
   "metadata": {},
   "source": [
    "Sétimo Passo: Criar coluna com IMC de cada linha e colocar todos os numeros com 2 casas decimais"
   ]
  },
  {
   "cell_type": "code",
   "execution_count": 8,
   "id": "37b3a919",
   "metadata": {},
   "outputs": [],
   "source": [
    "df['IMC'] = df['Peso (kg)']/(df['Altura (m)']*df['Altura (m)'])"
   ]
  },
  {
   "cell_type": "code",
   "execution_count": 9,
   "id": "141a7795",
   "metadata": {},
   "outputs": [],
   "source": [
    "df['IMC'] = round(df['IMC'],2)"
   ]
  },
  {
   "cell_type": "markdown",
   "id": "700e4195",
   "metadata": {},
   "source": [
    "Poderia usar tb: \"pd.set_option('display.precision', 2)\" - pra colocar toda a DataFrame no mesmo padrão de duas casas decimais"
   ]
  },
  {
   "cell_type": "markdown",
   "id": "3d09a222",
   "metadata": {},
   "source": [
    "Oitavo Passo: Testando o resultado"
   ]
  },
  {
   "cell_type": "code",
   "execution_count": 10,
   "id": "33725c9f",
   "metadata": {},
   "outputs": [
    {
     "data": {
      "text/html": [
       "<div>\n",
       "<style scoped>\n",
       "    .dataframe tbody tr th:only-of-type {\n",
       "        vertical-align: middle;\n",
       "    }\n",
       "\n",
       "    .dataframe tbody tr th {\n",
       "        vertical-align: top;\n",
       "    }\n",
       "\n",
       "    .dataframe thead th {\n",
       "        text-align: right;\n",
       "    }\n",
       "</style>\n",
       "<table border=\"1\" class=\"dataframe\">\n",
       "  <thead>\n",
       "    <tr style=\"text-align: right;\">\n",
       "      <th></th>\n",
       "      <th>Primeiro Nome</th>\n",
       "      <th>Sobrenomes</th>\n",
       "      <th>Peso (kg)</th>\n",
       "      <th>Altura (m)</th>\n",
       "      <th>NomSob</th>\n",
       "      <th>IMC</th>\n",
       "    </tr>\n",
       "  </thead>\n",
       "  <tbody>\n",
       "    <tr>\n",
       "      <th>0</th>\n",
       "      <td>FELIPE</td>\n",
       "      <td>NEVES DA HORA</td>\n",
       "      <td>70.60</td>\n",
       "      <td>1.69</td>\n",
       "      <td>FELIPE NEVES DA HORA</td>\n",
       "      <td>24.72</td>\n",
       "    </tr>\n",
       "    <tr>\n",
       "      <th>1</th>\n",
       "      <td>SANDRO</td>\n",
       "      <td>BARBOSA</td>\n",
       "      <td>90.50</td>\n",
       "      <td>1.73</td>\n",
       "      <td>SANDRO   BARBOSA</td>\n",
       "      <td>30.24</td>\n",
       "    </tr>\n",
       "    <tr>\n",
       "      <th>2</th>\n",
       "      <td>MAYCON</td>\n",
       "      <td>DA SILVA FERREIRA</td>\n",
       "      <td>100.01</td>\n",
       "      <td>1.82</td>\n",
       "      <td>MAYCON DA SILVA FERREIRA</td>\n",
       "      <td>30.19</td>\n",
       "    </tr>\n",
       "    <tr>\n",
       "      <th>3</th>\n",
       "      <td>JEFERSON</td>\n",
       "      <td>OLIVEIRA</td>\n",
       "      <td>80.04</td>\n",
       "      <td>1.75</td>\n",
       "      <td>JEFERSON     OLIVEIRA</td>\n",
       "      <td>26.14</td>\n",
       "    </tr>\n",
       "    <tr>\n",
       "      <th>4</th>\n",
       "      <td>MANUEL</td>\n",
       "      <td>GOMES   VIEIRA</td>\n",
       "      <td>63.05</td>\n",
       "      <td>1.80</td>\n",
       "      <td>MANUEL GOMES   VIEIRA</td>\n",
       "      <td>19.46</td>\n",
       "    </tr>\n",
       "  </tbody>\n",
       "</table>\n",
       "</div>"
      ],
      "text/plain": [
       "  Primeiro Nome         Sobrenomes  Peso (kg)  Altura (m)  \\\n",
       "0        FELIPE      NEVES DA HORA      70.60        1.69   \n",
       "1      SANDRO              BARBOSA      90.50        1.73   \n",
       "2        MAYCON  DA SILVA FERREIRA     100.01        1.82   \n",
       "3   JEFERSON              OLIVEIRA      80.04        1.75   \n",
       "4        MANUEL     GOMES   VIEIRA      63.05        1.80   \n",
       "\n",
       "                     NomSob    IMC  \n",
       "0      FELIPE NEVES DA HORA  24.72  \n",
       "1          SANDRO   BARBOSA  30.24  \n",
       "2  MAYCON DA SILVA FERREIRA  30.19  \n",
       "3     JEFERSON     OLIVEIRA  26.14  \n",
       "4     MANUEL GOMES   VIEIRA  19.46  "
      ]
     },
     "execution_count": 10,
     "metadata": {},
     "output_type": "execute_result"
    }
   ],
   "source": [
    "df.head()"
   ]
  },
  {
   "cell_type": "markdown",
   "id": "fa6e49dd",
   "metadata": {},
   "source": [
    "Nono Passo: Juntando duas colunas Nome e IMC e verificando o resultado"
   ]
  },
  {
   "cell_type": "code",
   "execution_count": 11,
   "id": "4f3c84fb",
   "metadata": {},
   "outputs": [
    {
     "data": {
      "text/html": [
       "<div>\n",
       "<style scoped>\n",
       "    .dataframe tbody tr th:only-of-type {\n",
       "        vertical-align: middle;\n",
       "    }\n",
       "\n",
       "    .dataframe tbody tr th {\n",
       "        vertical-align: top;\n",
       "    }\n",
       "\n",
       "    .dataframe thead th {\n",
       "        text-align: right;\n",
       "    }\n",
       "</style>\n",
       "<table border=\"1\" class=\"dataframe\">\n",
       "  <thead>\n",
       "    <tr style=\"text-align: right;\">\n",
       "      <th></th>\n",
       "      <th>Primeiro Nome</th>\n",
       "      <th>Sobrenomes</th>\n",
       "      <th>Peso (kg)</th>\n",
       "      <th>Altura (m)</th>\n",
       "      <th>NomSob</th>\n",
       "      <th>IMC</th>\n",
       "      <th>Solução</th>\n",
       "    </tr>\n",
       "  </thead>\n",
       "  <tbody>\n",
       "    <tr>\n",
       "      <th>0</th>\n",
       "      <td>FELIPE</td>\n",
       "      <td>NEVES DA HORA</td>\n",
       "      <td>70.60</td>\n",
       "      <td>1.69</td>\n",
       "      <td>FELIPE NEVES DA HORA</td>\n",
       "      <td>24.72</td>\n",
       "      <td>FELIPE NEVES DA HORA 24.72</td>\n",
       "    </tr>\n",
       "    <tr>\n",
       "      <th>1</th>\n",
       "      <td>SANDRO</td>\n",
       "      <td>BARBOSA</td>\n",
       "      <td>90.50</td>\n",
       "      <td>1.73</td>\n",
       "      <td>SANDRO   BARBOSA</td>\n",
       "      <td>30.24</td>\n",
       "      <td>SANDRO   BARBOSA 30.24</td>\n",
       "    </tr>\n",
       "    <tr>\n",
       "      <th>2</th>\n",
       "      <td>MAYCON</td>\n",
       "      <td>DA SILVA FERREIRA</td>\n",
       "      <td>100.01</td>\n",
       "      <td>1.82</td>\n",
       "      <td>MAYCON DA SILVA FERREIRA</td>\n",
       "      <td>30.19</td>\n",
       "      <td>MAYCON DA SILVA FERREIRA 30.19</td>\n",
       "    </tr>\n",
       "    <tr>\n",
       "      <th>3</th>\n",
       "      <td>JEFERSON</td>\n",
       "      <td>OLIVEIRA</td>\n",
       "      <td>80.04</td>\n",
       "      <td>1.75</td>\n",
       "      <td>JEFERSON     OLIVEIRA</td>\n",
       "      <td>26.14</td>\n",
       "      <td>JEFERSON     OLIVEIRA 26.14</td>\n",
       "    </tr>\n",
       "    <tr>\n",
       "      <th>4</th>\n",
       "      <td>MANUEL</td>\n",
       "      <td>GOMES   VIEIRA</td>\n",
       "      <td>63.05</td>\n",
       "      <td>1.80</td>\n",
       "      <td>MANUEL GOMES   VIEIRA</td>\n",
       "      <td>19.46</td>\n",
       "      <td>MANUEL GOMES   VIEIRA 19.46</td>\n",
       "    </tr>\n",
       "  </tbody>\n",
       "</table>\n",
       "</div>"
      ],
      "text/plain": [
       "  Primeiro Nome         Sobrenomes  Peso (kg)  Altura (m)  \\\n",
       "0        FELIPE      NEVES DA HORA      70.60        1.69   \n",
       "1      SANDRO              BARBOSA      90.50        1.73   \n",
       "2        MAYCON  DA SILVA FERREIRA     100.01        1.82   \n",
       "3   JEFERSON              OLIVEIRA      80.04        1.75   \n",
       "4        MANUEL     GOMES   VIEIRA      63.05        1.80   \n",
       "\n",
       "                     NomSob    IMC                         Solução  \n",
       "0      FELIPE NEVES DA HORA  24.72      FELIPE NEVES DA HORA 24.72  \n",
       "1          SANDRO   BARBOSA  30.24          SANDRO   BARBOSA 30.24  \n",
       "2  MAYCON DA SILVA FERREIRA  30.19  MAYCON DA SILVA FERREIRA 30.19  \n",
       "3     JEFERSON     OLIVEIRA  26.14     JEFERSON     OLIVEIRA 26.14  \n",
       "4     MANUEL GOMES   VIEIRA  19.46     MANUEL GOMES   VIEIRA 19.46  "
      ]
     },
     "execution_count": 11,
     "metadata": {},
     "output_type": "execute_result"
    }
   ],
   "source": [
    "df['Solução']= df['NomSob'] +' '+ df['IMC'].astype(str)\n",
    "df.head()"
   ]
  },
  {
   "cell_type": "raw",
   "id": "1d669d62",
   "metadata": {},
   "source": [
    "Décimo Passo: Selecionando apenas a ultima coluna"
   ]
  },
  {
   "cell_type": "code",
   "execution_count": 12,
   "id": "8f357134",
   "metadata": {},
   "outputs": [
    {
     "data": {
      "text/html": [
       "<div>\n",
       "<style scoped>\n",
       "    .dataframe tbody tr th:only-of-type {\n",
       "        vertical-align: middle;\n",
       "    }\n",
       "\n",
       "    .dataframe tbody tr th {\n",
       "        vertical-align: top;\n",
       "    }\n",
       "\n",
       "    .dataframe thead th {\n",
       "        text-align: right;\n",
       "    }\n",
       "</style>\n",
       "<table border=\"1\" class=\"dataframe\">\n",
       "  <thead>\n",
       "    <tr style=\"text-align: right;\">\n",
       "      <th></th>\n",
       "      <th>Solução</th>\n",
       "    </tr>\n",
       "  </thead>\n",
       "  <tbody>\n",
       "    <tr>\n",
       "      <th>0</th>\n",
       "      <td>FELIPE NEVES DA HORA 24.72</td>\n",
       "    </tr>\n",
       "    <tr>\n",
       "      <th>1</th>\n",
       "      <td>SANDRO   BARBOSA 30.24</td>\n",
       "    </tr>\n",
       "    <tr>\n",
       "      <th>2</th>\n",
       "      <td>MAYCON DA SILVA FERREIRA 30.19</td>\n",
       "    </tr>\n",
       "    <tr>\n",
       "      <th>3</th>\n",
       "      <td>JEFERSON     OLIVEIRA 26.14</td>\n",
       "    </tr>\n",
       "    <tr>\n",
       "      <th>4</th>\n",
       "      <td>MANUEL GOMES   VIEIRA 19.46</td>\n",
       "    </tr>\n",
       "    <tr>\n",
       "      <th>...</th>\n",
       "      <td>...</td>\n",
       "    </tr>\n",
       "    <tr>\n",
       "      <th>94</th>\n",
       "      <td>LUNA LUNARA LUA 20.23</td>\n",
       "    </tr>\n",
       "    <tr>\n",
       "      <th>95</th>\n",
       "      <td>HULK  JOSE 24.65</td>\n",
       "    </tr>\n",
       "    <tr>\n",
       "      <th>96</th>\n",
       "      <td>MARIA   GOMES 23.85</td>\n",
       "    </tr>\n",
       "    <tr>\n",
       "      <th>97</th>\n",
       "      <td>PAULO  ROCHA 24.52</td>\n",
       "    </tr>\n",
       "    <tr>\n",
       "      <th>98</th>\n",
       "      <td>LUANE                  SANTANA   TEIXEIRA 22.57</td>\n",
       "    </tr>\n",
       "  </tbody>\n",
       "</table>\n",
       "<p>99 rows × 1 columns</p>\n",
       "</div>"
      ],
      "text/plain": [
       "                                            Solução\n",
       "0                        FELIPE NEVES DA HORA 24.72\n",
       "1                            SANDRO   BARBOSA 30.24\n",
       "2                    MAYCON DA SILVA FERREIRA 30.19\n",
       "3                       JEFERSON     OLIVEIRA 26.14\n",
       "4                       MANUEL GOMES   VIEIRA 19.46\n",
       "..                                              ...\n",
       "94                            LUNA LUNARA LUA 20.23\n",
       "95                                 HULK  JOSE 24.65\n",
       "96                              MARIA   GOMES 23.85\n",
       "97                               PAULO  ROCHA 24.52\n",
       "98  LUANE                  SANTANA   TEIXEIRA 22.57\n",
       "\n",
       "[99 rows x 1 columns]"
      ]
     },
     "execution_count": 12,
     "metadata": {},
     "output_type": "execute_result"
    }
   ],
   "source": [
    "dfinal = df.iloc[:,[6]]\n",
    "dfinal.head(100)"
   ]
  },
  {
   "cell_type": "markdown",
   "id": "9d68b321",
   "metadata": {},
   "source": [
    "Último Passo: Exportar para CSV"
   ]
  },
  {
   "cell_type": "code",
   "execution_count": 13,
   "id": "9181f06e",
   "metadata": {},
   "outputs": [],
   "source": [
    "dfinal.to_csv(\"C:\\\\Users\\\\dsant\\\\Downloads\\\\Python Scripts\\\\XTR\\\\DataSetIcm.ipynb\", index=False)"
   ]
  }
 ],
 "metadata": {
  "kernelspec": {
   "display_name": "Python 3 (ipykernel)",
   "language": "python",
   "name": "python3"
  },
  "language_info": {
   "codemirror_mode": {
    "name": "ipython",
    "version": 3
   },
   "file_extension": ".py",
   "mimetype": "text/x-python",
   "name": "python",
   "nbconvert_exporter": "python",
   "pygments_lexer": "ipython3",
   "version": "3.9.13"
  }
 },
 "nbformat": 4,
 "nbformat_minor": 5
}
